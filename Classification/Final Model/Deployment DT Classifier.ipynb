{
 "cells": [
  {
   "cell_type": "code",
   "execution_count": 1,
   "id": "c311575c-5e90-4c28-ade6-21b084ba7b86",
   "metadata": {},
   "outputs": [],
   "source": [
    "import pickle"
   ]
  },
  {
   "cell_type": "code",
   "execution_count": 3,
   "id": "2d70225e-2791-453e-a590-8af9543ca3eb",
   "metadata": {},
   "outputs": [
    {
     "name": "stdin",
     "output_type": "stream",
     "text": [
      "age:  25\n",
      "bp:  56\n",
      "al: 78\n",
      "su: 90\n",
      "bgr: 12\n",
      "bu:  34\n",
      "sc: 56\n",
      "sod: 7\n",
      "pot:  8\n",
      "hrmo: 9\n",
      "pcv: 01\n",
      "wc: 2\n",
      "rc:  3\n",
      "sg_b 34\n",
      "sg_c 4\n",
      "sg_d 5\n",
      "sg_e 6\n",
      "rbc_normal (1 or 0) : 6\n",
      "pc_normal 1 or 0 : 1\n",
      " pcc_present 1 or 0 : 1\n",
      "ba_present 1 or 0 : 1\n",
      " htn_yes 1 or 0 : 1\n",
      "dm_yes 1 or 0 : 1\n",
      "cad_yes 1 or 0 : 1\n",
      "appet_yes 1 or 0 : 1\n",
      "pe_yes 1 or 0 : 1\n",
      "ane_yes 1 or 0 : 1\n"
     ]
    }
   ],
   "source": [
    "data={'age':int(input('age: ')),\n",
    "      'bp':int(input('bp: ')),\n",
    "      'al':int(input('al:')),\n",
    "      'su':int(input('su:')),\n",
    "      'bgr':int(input('bgr:')),\n",
    "      'bu':int(input('bu: ')),\n",
    "      'sc':int(input('sc:')),\n",
    "      'sod':int(input('sod:')),\n",
    "      'pot':int(input('pot: ')),\n",
    "      'hrmo':int(input('hrmo:')),\n",
    "      'pcv':int(input('pcv:')),\n",
    "      'wc':int(input('wc:')),\n",
    "      'rc':int(input('rc: ')), \n",
    "      'sg_b':int(input('sg_b')),\n",
    "      'sg_c':int(input('sg_c')),\n",
    "      'sg_d':int(input('sg_d')),\n",
    "      'sg_e':int(input('sg_e')),\n",
    "      'rbc_normal':int(input('rbc_normal (1 or 0) :')), \n",
    "      'pc_normal':int(input('pc_normal 1 or 0 :')),\n",
    "       'pcc_present':int(input(' pcc_present 1 or 0 :')),\n",
    "      'ba_present':int(input('ba_present 1 or 0 :')),\n",
    "      'htn_yes':int(input(' htn_yes 1 or 0 :')),\n",
    "      'dm_yes':int(input('dm_yes 1 or 0 :')),\n",
    "      'cad_yes':int(input('cad_yes 1 or 0 :')),\n",
    "       'appet_yes':int(input('appet_yes 1 or 0 :')),\n",
    "      'pe_yes':int(input('pe_yes 1 or 0 :')),\n",
    "      'ane_yes':int(input('ane_yes 1 or 0 :'))\n",
    "     }"
   ]
  },
  {
   "cell_type": "code",
   "execution_count": 9,
   "id": "36c4c062-051f-4eda-b06b-6a4e0965855a",
   "metadata": {},
   "outputs": [
    {
     "name": "stderr",
     "output_type": "stream",
     "text": [
      "C:\\Users\\anand\\anaconda3\\Lib\\site-packages\\sklearn\\utils\\validation.py:2739: UserWarning: X does not have valid feature names, but DecisionTreeClassifier was fitted with feature names\n",
      "  warnings.warn(\n"
     ]
    },
    {
     "data": {
      "text/plain": [
       "array([ True])"
      ]
     },
     "execution_count": 9,
     "metadata": {},
     "output_type": "execute_result"
    }
   ],
   "source": [
    "model=pickle.load(open('DecisionTreeClassifier.sav','rb'))\n",
    "features = list(data.values())\n",
    "res = model.predict([features])\n",
    "res"
   ]
  },
  {
   "cell_type": "code",
   "execution_count": null,
   "id": "a955d2d2-7009-4988-950a-11869f00a598",
   "metadata": {},
   "outputs": [],
   "source": []
  }
 ],
 "metadata": {
  "kernelspec": {
   "display_name": "Python 3 (ipykernel)",
   "language": "python",
   "name": "python3"
  },
  "language_info": {
   "codemirror_mode": {
    "name": "ipython",
    "version": 3
   },
   "file_extension": ".py",
   "mimetype": "text/x-python",
   "name": "python",
   "nbconvert_exporter": "python",
   "pygments_lexer": "ipython3",
   "version": "3.13.5"
  }
 },
 "nbformat": 4,
 "nbformat_minor": 5
}
