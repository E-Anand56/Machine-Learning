{
 "cells": [
  {
   "cell_type": "code",
   "execution_count": 1,
   "id": "e9d4986b-1a09-4c04-b81f-81528f654ef2",
   "metadata": {},
   "outputs": [],
   "source": [
    "import pandas as pd\n"
   ]
  },
  {
   "cell_type": "code",
   "execution_count": 2,
   "id": "455b4442-cf05-440b-8d6a-70d87eaf2b96",
   "metadata": {},
   "outputs": [],
   "source": [
    "data1=pd.read_csv('CKD.csv')"
   ]
  },
  {
   "cell_type": "code",
   "execution_count": 3,
   "id": "b82cc155-f58f-4a13-a0b2-5f43f86efabd",
   "metadata": {},
   "outputs": [],
   "source": [
    "data=pd.get_dummies(data1, drop_first=True)"
   ]
  },
  {
   "cell_type": "code",
   "execution_count": 5,
   "id": "55750167-83fe-4759-a8fb-0eb5c6f9270c",
   "metadata": {},
   "outputs": [
    {
     "data": {
      "text/plain": [
       "Index(['age', 'bp', 'al', 'su', 'bgr', 'bu', 'sc', 'sod', 'pot', 'hrmo', 'pcv',\n",
       "       'wc', 'rc', 'sg_b', 'sg_c', 'sg_d', 'sg_e', 'rbc_normal', 'pc_normal',\n",
       "       'pcc_present', 'ba_present', 'htn_yes', 'dm_yes', 'cad_yes',\n",
       "       'appet_yes', 'pe_yes', 'ane_yes', 'classification_yes'],\n",
       "      dtype='object')"
      ]
     },
     "execution_count": 5,
     "metadata": {},
     "output_type": "execute_result"
    }
   ],
   "source": [
    "data.columns"
   ]
  },
  {
   "cell_type": "code",
   "execution_count": 6,
   "id": "89d86acd-1c63-4ee8-9ba2-bc171a82ea9d",
   "metadata": {},
   "outputs": [],
   "source": [
    "x=data[['age', 'bp', 'al', 'su', 'bgr', 'bu', 'sc', 'sod', 'pot', 'hrmo', 'pcv',\n",
    "       'wc', 'rc', 'sg_b', 'sg_c', 'sg_d', 'sg_e', 'rbc_normal', 'pc_normal',\n",
    "       'pcc_present', 'ba_present', 'htn_yes', 'dm_yes', 'cad_yes',\n",
    "       'appet_yes', 'pe_yes', 'ane_yes']]\n",
    "y=data[['classification_yes']]"
   ]
  },
  {
   "cell_type": "code",
   "execution_count": 8,
   "id": "31d0e7c5-9221-47d1-bf97-5829c8e37b2d",
   "metadata": {},
   "outputs": [],
   "source": [
    "from sklearn.model_selection import train_test_split\n",
    "x_train,x_test,y_train,y_test=train_test_split(x,y,train_size=0.30)"
   ]
  },
  {
   "cell_type": "code",
   "execution_count": 21,
   "id": "a1feb5a2-e79a-417d-b766-284bc4bfeb58",
   "metadata": {},
   "outputs": [],
   "source": [
    "from sklearn.linear_model import LogisticRegression\n",
    "from sklearn.svm import SVC\n",
    "from sklearn.tree import DecisionTreeClassifier\n",
    "from sklearn.ensemble import RandomForestClassifier\n",
    "from sklearn.neighbors import KNeighborsClassifier\n",
    "from sklearn.naive_bayes import GaussianNB\n",
    "from sklearn.metrics import confusion_matrix, classification_report"
   ]
  },
  {
   "cell_type": "code",
   "execution_count": 22,
   "id": "9d0ee21c-18ae-4b71-b1b5-a605625dc83c",
   "metadata": {},
   "outputs": [],
   "source": [
    "\n",
    "\n",
    "models = [\n",
    "    (\"Logistic Regression\", LogisticRegression()),  \n",
    "    (\"SVM\", SVC()),\n",
    "    (\"Decision Tree\", DecisionTreeClassifier()),\n",
    "    (\"Random Forest\", RandomForestClassifier()),\n",
    "    (\"KNN\", KNeighborsClassifier(n_neighbors=5, metric='minkowski', p=2)),\n",
    "    (\"Naive Bayes\", GaussianNB())\n",
    "]"
   ]
  },
  {
   "cell_type": "code",
   "execution_count": 25,
   "id": "b21c9038-b59b-4786-8c42-05f34d1bed42",
   "metadata": {},
   "outputs": [
    {
     "name": "stdout",
     "output_type": "stream",
     "text": [
      "Logistic Regression\n",
      "[[102   5]\n",
      " [ 15 158]]\n",
      "              precision    recall  f1-score   support\n",
      "\n",
      "       False       0.87      0.95      0.91       107\n",
      "        True       0.97      0.91      0.94       173\n",
      "\n",
      "    accuracy                           0.93       280\n",
      "   macro avg       0.92      0.93      0.93       280\n",
      "weighted avg       0.93      0.93      0.93       280\n",
      "\n",
      "SVM\n",
      "[[  0 107]\n",
      " [  0 173]]\n",
      "              precision    recall  f1-score   support\n",
      "\n",
      "       False       0.00      0.00      0.00       107\n",
      "        True       0.62      1.00      0.76       173\n",
      "\n",
      "    accuracy                           0.62       280\n",
      "   macro avg       0.31      0.50      0.38       280\n",
      "weighted avg       0.38      0.62      0.47       280\n",
      "\n",
      "Decision Tree\n",
      "[[ 96  11]\n",
      " [  4 169]]\n",
      "              precision    recall  f1-score   support\n",
      "\n",
      "       False       0.96      0.90      0.93       107\n",
      "        True       0.94      0.98      0.96       173\n",
      "\n",
      "    accuracy                           0.95       280\n",
      "   macro avg       0.95      0.94      0.94       280\n",
      "weighted avg       0.95      0.95      0.95       280\n",
      "\n",
      "Random Forest\n"
     ]
    },
    {
     "name": "stderr",
     "output_type": "stream",
     "text": [
      "C:\\Users\\anand\\anaconda3\\Lib\\site-packages\\sklearn\\utils\\validation.py:1408: DataConversionWarning: A column-vector y was passed when a 1d array was expected. Please change the shape of y to (n_samples, ), for example using ravel().\n",
      "  y = column_or_1d(y, warn=True)\n",
      "C:\\Users\\anand\\anaconda3\\Lib\\site-packages\\sklearn\\linear_model\\_logistic.py:465: ConvergenceWarning: lbfgs failed to converge (status=1):\n",
      "STOP: TOTAL NO. OF ITERATIONS REACHED LIMIT.\n",
      "\n",
      "Increase the number of iterations (max_iter) or scale the data as shown in:\n",
      "    https://scikit-learn.org/stable/modules/preprocessing.html\n",
      "Please also refer to the documentation for alternative solver options:\n",
      "    https://scikit-learn.org/stable/modules/linear_model.html#logistic-regression\n",
      "  n_iter_i = _check_optimize_result(\n",
      "C:\\Users\\anand\\anaconda3\\Lib\\site-packages\\sklearn\\utils\\validation.py:1408: DataConversionWarning: A column-vector y was passed when a 1d array was expected. Please change the shape of y to (n_samples, ), for example using ravel().\n",
      "  y = column_or_1d(y, warn=True)\n",
      "C:\\Users\\anand\\anaconda3\\Lib\\site-packages\\sklearn\\metrics\\_classification.py:1565: UndefinedMetricWarning: Precision is ill-defined and being set to 0.0 in labels with no predicted samples. Use `zero_division` parameter to control this behavior.\n",
      "  _warn_prf(average, modifier, f\"{metric.capitalize()} is\", len(result))\n",
      "C:\\Users\\anand\\anaconda3\\Lib\\site-packages\\sklearn\\metrics\\_classification.py:1565: UndefinedMetricWarning: Precision is ill-defined and being set to 0.0 in labels with no predicted samples. Use `zero_division` parameter to control this behavior.\n",
      "  _warn_prf(average, modifier, f\"{metric.capitalize()} is\", len(result))\n",
      "C:\\Users\\anand\\anaconda3\\Lib\\site-packages\\sklearn\\metrics\\_classification.py:1565: UndefinedMetricWarning: Precision is ill-defined and being set to 0.0 in labels with no predicted samples. Use `zero_division` parameter to control this behavior.\n",
      "  _warn_prf(average, modifier, f\"{metric.capitalize()} is\", len(result))\n",
      "C:\\Users\\anand\\anaconda3\\Lib\\site-packages\\sklearn\\base.py:1389: DataConversionWarning: A column-vector y was passed when a 1d array was expected. Please change the shape of y to (n_samples,), for example using ravel().\n",
      "  return fit_method(estimator, *args, **kwargs)\n"
     ]
    },
    {
     "name": "stdout",
     "output_type": "stream",
     "text": [
      "[[103   4]\n",
      " [  3 170]]\n",
      "              precision    recall  f1-score   support\n",
      "\n",
      "       False       0.97      0.96      0.97       107\n",
      "        True       0.98      0.98      0.98       173\n",
      "\n",
      "    accuracy                           0.97       280\n",
      "   macro avg       0.97      0.97      0.97       280\n",
      "weighted avg       0.97      0.97      0.97       280\n",
      "\n",
      "KNN\n",
      "[[ 78  29]\n",
      " [ 62 111]]\n",
      "              precision    recall  f1-score   support\n",
      "\n",
      "       False       0.56      0.73      0.63       107\n",
      "        True       0.79      0.64      0.71       173\n",
      "\n",
      "    accuracy                           0.68       280\n",
      "   macro avg       0.68      0.69      0.67       280\n",
      "weighted avg       0.70      0.68      0.68       280\n",
      "\n",
      "Naive Bayes\n",
      "[[106   1]\n",
      " [  3 170]]\n",
      "              precision    recall  f1-score   support\n",
      "\n",
      "       False       0.97      0.99      0.98       107\n",
      "        True       0.99      0.98      0.99       173\n",
      "\n",
      "    accuracy                           0.99       280\n",
      "   macro avg       0.98      0.99      0.98       280\n",
      "weighted avg       0.99      0.99      0.99       280\n",
      "\n"
     ]
    },
    {
     "name": "stderr",
     "output_type": "stream",
     "text": [
      "C:\\Users\\anand\\anaconda3\\Lib\\site-packages\\sklearn\\neighbors\\_classification.py:239: DataConversionWarning: A column-vector y was passed when a 1d array was expected. Please change the shape of y to (n_samples,), for example using ravel().\n",
      "  return self._fit(X, y)\n",
      "C:\\Users\\anand\\anaconda3\\Lib\\site-packages\\sklearn\\utils\\validation.py:1408: DataConversionWarning: A column-vector y was passed when a 1d array was expected. Please change the shape of y to (n_samples, ), for example using ravel().\n",
      "  y = column_or_1d(y, warn=True)\n"
     ]
    }
   ],
   "source": [
    "for name, model in models:\n",
    "    print(name)\n",
    "    \n",
    "    model.fit(x_train, y_train)\n",
    "    y_pred = model.predict(x_test)\n",
    "    cm= confusion_matrix(y_test, y_pred)\n",
    "    cr=classification_report(y_test, y_pred)\n",
    "    print(cm)\n",
    "    print(cr)\n"
   ]
  },
  {
   "cell_type": "code",
   "execution_count": null,
   "id": "d4817f23-a393-4238-96cf-7d40e49d98c0",
   "metadata": {},
   "outputs": [],
   "source": []
  }
 ],
 "metadata": {
  "kernelspec": {
   "display_name": "Python 3 (ipykernel)",
   "language": "python",
   "name": "python3"
  },
  "language_info": {
   "codemirror_mode": {
    "name": "ipython",
    "version": 3
   },
   "file_extension": ".py",
   "mimetype": "text/x-python",
   "name": "python",
   "nbconvert_exporter": "python",
   "pygments_lexer": "ipython3",
   "version": "3.13.5"
  }
 },
 "nbformat": 4,
 "nbformat_minor": 5
}
