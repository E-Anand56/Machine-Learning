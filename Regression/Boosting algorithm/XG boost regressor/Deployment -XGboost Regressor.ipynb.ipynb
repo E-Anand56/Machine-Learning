{
 "cells": [
  {
   "cell_type": "code",
   "execution_count": 1,
   "id": "f507b20b-551a-4239-a6d8-a80ea3d1865a",
   "metadata": {},
   "outputs": [],
   "source": [
    "import pickle"
   ]
  },
  {
   "cell_type": "code",
   "execution_count": 3,
   "id": "442d8292-bfa6-4695-af39-498342cb6247",
   "metadata": {},
   "outputs": [
    {
     "name": "stdin",
     "output_type": "stream",
     "text": [
      " 5\n",
      " 4\n",
      " 3\n",
      "1 0r 0:  2\n",
      "1 0r 0:  1\n"
     ]
    }
   ],
   "source": [
    "data= {\n",
    "'R_D_Spend':int(input('')),\n",
    "'Administration':int(input('')),\n",
    "'Marketing_Spend':int(input('')),\n",
    "'State_Florida':int(input('1 0r 0: ')),\n",
    "'State_New York':int(input('1 0r 0: '))\n",
    "}"
   ]
  },
  {
   "cell_type": "code",
   "execution_count": 4,
   "id": "1eb251b1-7c2d-445b-a8ec-49db4292ed02",
   "metadata": {},
   "outputs": [
    {
     "data": {
      "text/plain": [
       "array([33469.324], dtype=float32)"
      ]
     },
     "execution_count": 4,
     "metadata": {},
     "output_type": "execute_result"
    }
   ],
   "source": [
    "model=pickle.load(open('xgboostregressor.sav','rb'))\n",
    "features = list(data.values())\n",
    "res = model.predict([features])\n",
    "res"
   ]
  },
  {
   "cell_type": "code",
   "execution_count": null,
   "id": "d7de0d29-efd9-4fe1-be24-9d62cd1e56a4",
   "metadata": {},
   "outputs": [],
   "source": []
  }
 ],
 "metadata": {
  "kernelspec": {
   "display_name": "Python 3 (ipykernel)",
   "language": "python",
   "name": "python3"
  },
  "language_info": {
   "codemirror_mode": {
    "name": "ipython",
    "version": 3
   },
   "file_extension": ".py",
   "mimetype": "text/x-python",
   "name": "python",
   "nbconvert_exporter": "python",
   "pygments_lexer": "ipython3",
   "version": "3.13.5"
  }
 },
 "nbformat": 4,
 "nbformat_minor": 5
}
