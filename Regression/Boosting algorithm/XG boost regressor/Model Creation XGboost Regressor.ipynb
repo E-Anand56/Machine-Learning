{
 "cells": [
  {
   "cell_type": "code",
   "execution_count": 1,
   "id": "2b014060-7dbb-43bb-b6bc-282084765dd6",
   "metadata": {},
   "outputs": [],
   "source": [
    "import pandas as pd"
   ]
  },
  {
   "cell_type": "code",
   "execution_count": 2,
   "id": "0ff83a95-fdb0-4545-bc9a-27714e74ccce",
   "metadata": {},
   "outputs": [],
   "source": [
    "data1=pd.read_csv('50_Startups.csv')"
   ]
  },
  {
   "cell_type": "code",
   "execution_count": 3,
   "id": "65659b7e-4f69-4682-ba9d-73e3913298be",
   "metadata": {},
   "outputs": [],
   "source": [
    "data=pd.get_dummies(data1, drop_first=True)"
   ]
  },
  {
   "cell_type": "code",
   "execution_count": 4,
   "id": "ccf72a22-b2d6-4fa8-a8cb-2e1b7a3ab79a",
   "metadata": {},
   "outputs": [
    {
     "data": {
      "text/plain": [
       "Index(['R&D Spend', 'Administration', 'Marketing Spend', 'Profit',\n",
       "       'State_Florida', 'State_New York'],\n",
       "      dtype='object')"
      ]
     },
     "execution_count": 4,
     "metadata": {},
     "output_type": "execute_result"
    }
   ],
   "source": [
    "data.columns"
   ]
  },
  {
   "cell_type": "code",
   "execution_count": 5,
   "id": "bb5242fb-1288-4e09-ba7b-1b875ef7d00a",
   "metadata": {},
   "outputs": [],
   "source": [
    "x=data[['R&D Spend', 'Administration', 'Marketing Spend','State_Florida', 'State_New York']]\n",
    "y=data[['Profit']]"
   ]
  },
  {
   "cell_type": "code",
   "execution_count": 6,
   "id": "55a01126-7e67-451c-ab2c-8a6c774b8d47",
   "metadata": {},
   "outputs": [],
   "source": [
    "from sklearn.model_selection import train_test_split\n",
    "x_train,x_test,y_train,y_test=train_test_split(x,y, test_size=0.30, random_state=0)"
   ]
  },
  {
   "cell_type": "code",
   "execution_count": 7,
   "id": "da01a328-2327-41f0-8145-2e6e57fe25fa",
   "metadata": {},
   "outputs": [],
   "source": [
    "#from sklearn.preprocessing import StandardScaler\n",
    "#sc=StandardScaler()\n",
    "#x_train=sc.fit_transform(x_train)\n",
    "#x_test=sc.fit(x_test)"
   ]
  },
  {
   "cell_type": "code",
   "execution_count": 17,
   "id": "5e0458f0-42de-4f21-b53b-40753922572d",
   "metadata": {},
   "outputs": [
    {
     "name": "stdout",
     "output_type": "stream",
     "text": [
      "Fitting 5 folds for each of 81 candidates, totalling 405 fits\n",
      "Best parameters: {'gamma': 0.3, 'learning_rate': 0.1, 'max_depth': 3, 'n_estimators': 500}\n"
     ]
    }
   ],
   "source": [
    "from sklearn.model_selection import GridSearchCV\n",
    "from xgboost import XGBRegressor\n",
    "param_grid = {\n",
    "    'n_estimators': [100, 300, 500],\n",
    "    'max_depth': [3, 5, 7],\n",
    "    'learning_rate': [0.01, 0.05, 0.1],\n",
    "    'gamma': [0, 0.1, 0.3],\n",
    "    }\n",
    "\n",
    "grid_search = GridSearchCV(\n",
    "    estimator=XGBRegressor(),\n",
    "    param_grid=param_grid,\n",
    "    verbose=1,\n",
    "    n_jobs=-1\n",
    ")\n",
    "\n",
    "grid_search.fit(x_train, y_train)\n",
    "print(\"Best parameters:\", grid_search.best_params_)"
   ]
  },
  {
   "cell_type": "code",
   "execution_count": 23,
   "id": "ae8576fe-0ec3-4c82-a546-510109272d7e",
   "metadata": {},
   "outputs": [
    {
     "name": "stdout",
     "output_type": "stream",
     "text": [
      "Fitting 5 folds for each of 81 candidates, totalling 405 fits\n"
     ]
    }
   ],
   "source": [
    "#from xgboost import XGBRegressor\n",
    "regressor=grid_search\n",
    "regressor=regressor.fit(x_train,y_train)"
   ]
  },
  {
   "cell_type": "code",
   "execution_count": 24,
   "id": "f0772005-f6a0-4043-aa17-f6080cbdae6b",
   "metadata": {},
   "outputs": [],
   "source": [
    "from sklearn.metrics import r2_score"
   ]
  },
  {
   "cell_type": "code",
   "execution_count": 25,
   "id": "a6defa28-3c29-46d2-8c9a-711aa282e319",
   "metadata": {},
   "outputs": [],
   "source": [
    "y_pred=regressor.predict(x_test)"
   ]
  },
  {
   "cell_type": "code",
   "execution_count": 26,
   "id": "8b36c12c-eff6-42ec-968a-b48adc9334a9",
   "metadata": {},
   "outputs": [
    {
     "data": {
      "text/plain": [
       "0.90777587890625"
      ]
     },
     "execution_count": 26,
     "metadata": {},
     "output_type": "execute_result"
    }
   ],
   "source": [
    "r2_score(y_test,y_pred)"
   ]
  },
  {
   "cell_type": "code",
   "execution_count": 27,
   "id": "727c3248-7a9d-42b1-a83b-41462faf9ad8",
   "metadata": {},
   "outputs": [],
   "source": [
    "import pickle\n",
    "filename=\"xgboostregressor.sav\"\n",
    "pickle.dump(regressor,open(filename,'wb'))\n"
   ]
  },
  {
   "cell_type": "code",
   "execution_count": 28,
   "id": "43210dad-3dc1-4b5b-b820-8dde635af710",
   "metadata": {},
   "outputs": [
    {
     "name": "stdin",
     "output_type": "stream",
     "text": [
      " 50000\n",
      " 40000\n",
      " 30000\n",
      "1 0r 0:  1\n",
      "1 0r 0:  0\n"
     ]
    }
   ],
   "source": [
    "data= {\n",
    "'R_D_Spend':int(input('')),\n",
    "'Administration':int(input('')),\n",
    "'Marketing_Spend':int(input('')),\n",
    "'State_Florida':int(input('1 0r 0: ')),\n",
    "'State_New York':int(input('1 0r 0: '))\n",
    "}"
   ]
  },
  {
   "cell_type": "code",
   "execution_count": 30,
   "id": "245d33c0-64cf-491e-8402-7b9d25ee9820",
   "metadata": {},
   "outputs": [
    {
     "data": {
      "text/plain": [
       "array([91083.42], dtype=float32)"
      ]
     },
     "execution_count": 30,
     "metadata": {},
     "output_type": "execute_result"
    }
   ],
   "source": [
    "model=pickle.load(open('xgboostregressor.sav','rb'))\n",
    "features = list(data.values())\n",
    "res = model.predict([features])\n",
    "res"
   ]
  },
  {
   "cell_type": "code",
   "execution_count": null,
   "id": "7c45ede9-9b3c-4ab5-9f92-1029a133301d",
   "metadata": {},
   "outputs": [],
   "source": []
  }
 ],
 "metadata": {
  "kernelspec": {
   "display_name": "Python 3 (ipykernel)",
   "language": "python",
   "name": "python3"
  },
  "language_info": {
   "codemirror_mode": {
    "name": "ipython",
    "version": 3
   },
   "file_extension": ".py",
   "mimetype": "text/x-python",
   "name": "python",
   "nbconvert_exporter": "python",
   "pygments_lexer": "ipython3",
   "version": "3.13.5"
  }
 },
 "nbformat": 4,
 "nbformat_minor": 5
}
