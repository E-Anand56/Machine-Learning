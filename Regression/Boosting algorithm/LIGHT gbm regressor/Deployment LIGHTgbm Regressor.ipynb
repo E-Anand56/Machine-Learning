{
 "cells": [
  {
   "cell_type": "code",
   "execution_count": 1,
   "id": "c6728172-7139-4c25-b49c-a69f497492e0",
   "metadata": {},
   "outputs": [],
   "source": [
    "import pickle "
   ]
  },
  {
   "cell_type": "code",
   "execution_count": 2,
   "id": "86f17c63-c4be-41b1-a9b2-89de091a7426",
   "metadata": {},
   "outputs": [
    {
     "name": "stdin",
     "output_type": "stream",
     "text": [
      " 10000\n",
      " 20000\n",
      " 30000\n",
      "1 or 0:  1\n",
      "1 or 0:  0\n"
     ]
    }
   ],
   "source": [
    "data={\n",
    "    'R&D_Spend':int(input('')),\n",
    "    'Administration':int(input('')),\n",
    "    'Marketing_Spend':int(input('')),\n",
    "    'State_Florida':int(input('1 or 0: ')),\n",
    "    'State_New York':int(input('1 or 0: '))\n",
    "}"
   ]
  },
  {
   "cell_type": "code",
   "execution_count": 3,
   "id": "9ddfce38-43aa-45dd-9d47-5962e2ac6c51",
   "metadata": {},
   "outputs": [
    {
     "name": "stderr",
     "output_type": "stream",
     "text": [
      "C:\\Users\\anand\\anaconda3\\Lib\\site-packages\\sklearn\\utils\\validation.py:2739: UserWarning: X does not have valid feature names, but LGBMRegressor was fitted with feature names\n",
      "  warnings.warn(\n"
     ]
    },
    {
     "data": {
      "text/plain": [
       "array([112861.44036458])"
      ]
     },
     "execution_count": 3,
     "metadata": {},
     "output_type": "execute_result"
    }
   ],
   "source": [
    "model=pickle.load(open('lightgbmregressor.sav','rb'))\n",
    "features = list(data.values())\n",
    "res = model.predict([features])\n",
    "res"
   ]
  },
  {
   "cell_type": "code",
   "execution_count": null,
   "id": "dcec857c-b15e-4630-9a24-dc533ecdc797",
   "metadata": {},
   "outputs": [],
   "source": []
  }
 ],
 "metadata": {
  "kernelspec": {
   "display_name": "Python 3 (ipykernel)",
   "language": "python",
   "name": "python3"
  },
  "language_info": {
   "codemirror_mode": {
    "name": "ipython",
    "version": 3
   },
   "file_extension": ".py",
   "mimetype": "text/x-python",
   "name": "python",
   "nbconvert_exporter": "python",
   "pygments_lexer": "ipython3",
   "version": "3.13.5"
  }
 },
 "nbformat": 4,
 "nbformat_minor": 5
}
